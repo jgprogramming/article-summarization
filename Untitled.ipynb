{
 "cells": [
  {
   "cell_type": "code",
   "execution_count": 4,
   "metadata": {
    "collapsed": false
   },
   "outputs": [
    {
     "name": "stdout",
     "output_type": "stream",
     "text": [
      "665\n"
     ]
    }
   ],
   "source": [
    "import os\n",
    "import json\n",
    "\n",
    "data_dir = '/home/jagr/Documents/studia/article-summarization/data/small'\n",
    "\n",
    "categories = os.listdir(data_dir)\n",
    "data = {}\n",
    "\n",
    "for category in categories:\n",
    "    data[category] = []\n",
    "\n",
    "\n",
    "    \n",
    "for category in categories:\n",
    "    for file in os.listdir(os.path.join(data_dir, category)):\n",
    "        doc_path = os.path.join(data_dir, category, file)\n",
    "        d = open(doc_path)\n",
    "        j = json.loads(d.read())\n",
    "        for document in j:\n",
    "            doc = {\"title\":document[\"title\"], \"text\":document[\"text\"]}\n",
    "            data[category].append(doc)\n",
    "\n",
    "corpus_size = 0\n",
    "for category in categories:\n",
    "    corpus_size += len(data[category])\n",
    "            \n",
    "print(corpus_size)\n"
   ]
  },
  {
   "cell_type": "code",
   "execution_count": 27,
   "metadata": {
    "collapsed": false
   },
   "outputs": [],
   "source": [
    "from sklearn.feature_extraction.text import CountVectorizer\n",
    "from sklearn.feature_extraction.text import TfidfTransformer\n",
    "from nltk.stem.lancaster import LancasterStemmer\n",
    "\n",
    "import nltk\n",
    "\n",
    "\n",
    "\n",
    "stemmer = LancasterStemmer()\n",
    "def stem_tokens(tokens, stemmer):\n",
    "    stemmed = []\n",
    "    for item in tokens:\n",
    "        stemmed.append(stemmer.stem(item))\n",
    "    return stemmed\n",
    "\n",
    "def tokenize(text):\n",
    "    tokens = nltk.word_tokenize(text)\n",
    "    stems = stem_tokens(tokens, stemmer)\n",
    "    stems = [word.lower() for word in stems if word.isalpha()]\n",
    "    return stems\n",
    "\n",
    "bayes = {}\n",
    "for category in categories:\n",
    "    bayes[category] = {}\n",
    "    bayes[category][\"prob\"] = len(data[category])/corpus_size\n",
    "    bow = CountVectorizer(input='content', tokenizer=tokenize, stop_words='english')\n",
    "    korpus = []\n",
    "    for entry in data[category]:\n",
    "        korpus.append(entry[\"text\"])\n",
    "    bow = bow.fit(korpus)\n",
    "    transformed_korpus = bow.transform(korpus)\n",
    "    count = [ sum(x) for x in zip(*transformed_korpus.toarray()) ]\n",
    "    \n",
    "    tfidf = TfidfTransformer(norm=\"l2\")\n",
    "    tfidf.fit(transformed_korpus)\n",
    "    \n",
    "    bayes[category][\"bow\"] = bow   \n",
    "    bayes[category][\"tfidf\"] = tfidf                      \n",
    "    bayes[category][\"count\"] = count\n",
    "    bayes[category][\"features\"] = bow.get_feature_names()\n",
    "    bayes[category][\"sum\"] = sum(bayes[category][\"count\"])"
   ]
  },
  {
   "cell_type": "code",
   "execution_count": 19,
   "metadata": {
    "collapsed": false
   },
   "outputs": [],
   "source": [
    "import math\n",
    "       \n",
    "import sys\n",
    "def calculate_prob(text, category):\n",
    "    prob = math.log(bayes[category][\"prob\"])\n",
    "    \n",
    "    features = bayes[category][\"features\"]\n",
    "    count = bayes[category][\"count\"]\n",
    "    suma = bayes[category][\"sum\"]\n",
    "    \n",
    "    for word in tokenize(text):\n",
    "        try:\n",
    "            indx = features.index(word)\n",
    "            c = count[indx]\n",
    "        except:\n",
    "            c = 1\n",
    "        prob += math.log(c/suma)\n",
    "    return prob\n",
    "\n",
    "def predict_category(text):\n",
    "    value = -sys.maxsize -1\n",
    "    cat = None\n",
    "    \n",
    "    for category in categories:\n",
    "        prob = calculate_prob(text, category)\n",
    "        if  prob > value:\n",
    "            value = prob\n",
    "            cat = category\n",
    "    return cat"
   ]
  },
  {
   "cell_type": "code",
   "execution_count": 122,
   "metadata": {
    "collapsed": false
   },
   "outputs": [],
   "source": [
    "text = \"Compensatory growth (organism)\\n\\nCompensatory growth, known as catch-up growth and compensatory gain, is an accelerated growth of an organism following a period of slowed development, particularly as a result of nutrient deprivation. The growth may be with respect to weight or length (or height in humans). For example, oftentimes the body weights of animals who experience nutritional restriction will over time become similar to those of animals who did not experience such stress. It is possible for high compensatory growth rates to result in overcompensation, where the organism exceeds normal weight and often has excessive fat deposition.\\n\\nAn organism can recover to normal weight without additional time. Sometimes when the nutrient restriction is severe, the growth period is extended to reach the normal weight. If the nutrient restriction is severe enough, the organism may have permanent stunted growth where it does not ever reach normal weight. Usually in animals, complete recovery from carbohydrate and protein restriction occurs.\\n\\nCompensatory growth has been observed in a number of organisms including humans, other species of mammals, birds, reptiles, fish, plants (especially grasses and young tree seedlings and saplings), fungi, microbes, and damselflies.\\n\\nIn 1911, Hans Aron performed the earliest study of growth after periods of undernourishment. He underfed a dog and found that it still had the capacity to rapidly gain weight, though it did not reach the final weight of a dog that was fed normally. In 1915, Osborne and Mendel were the first to demonstrate that rats fed after growth restriction had an accelerated growth rate. In 1945, Brody developed the idea of “homoestasis of growth” in the book \\\"Bioenergetics and Growth\\\". In 1955, Verle Bohman was the first to use the term “compensatory growth” in an article pertaining to beef cattle.\\n\\nIn animals, homeostatic and homeorhetic processes are involved in the abnormally high growth rates. Homeostatic processes usually affect compensatory growth in the short term, whereas homeorhetic processes usually have a long-term effect.\\n\\nThe exact biological mechanisms for compensatory growth are poorly understood, though it is clear that in some animals the endocrine system is involved in the metabolism and nutrient partitioning in the tissues.\\nFirst, during nutrient starvation, a reduction of basal metabolism takes place. The gut tissues are the first tissues to be reduced in weight and activity. Then, during the realimentation (re-feeding) phase, an increase in feeding enables more dietary protein and energy to be contributed for tissue growth instead of basal metabolism. The gut tissues are the first to increase in weight, followed by muscle tissue and finally adipose tissue.\\n\\nAnorexia nervosa can have serious implications if its duration and severity are significant and if onset occurs before the completion of growth, pubertal maturation or prior to attaining peak bone mass. Both height gain and pubertal development are dependent on the release of growth hormone and gonadotrophins (LH and FSH) from the pituitary gland. Suppression of gonadotropins in patients with anorexia nervosa has been frequently documented. In some cases, especially where onset is pre-pubertal, physical consequences such as stunted growth and pubertal delay are usually fully reversible. Height potential is normally preserved if the duration and severity of anorexia nervosa are not significant and/or if the illness is accompanied with delayed bone age (especially prior to a bone age of approximately 15 years), as hypogonadism may negate the deleterious effects of undernutrition on stature by allowing for a longer duration of growth compared to controls. In such cases, appropriate early treatment can preserve height potential and may even help to increase it in some post-anorexic subjects due to the aforementioned reasons in addition to factors such as long-term reduced estrogen-producing adipose tissue levels compared to premorbid levels.\\n\\nIn 1960, Wilson and Osborne outlined six factors that could affect compensatory growth in a review article. The importance of each, some, or all of these factors is not well understood. These factors are as follows:\\n\\nAnimal factors that can affect compensatory growth may include the maturity level and fat proportion of the animal at the time of nutrient deprivation, the genotype, the gender, and the metabolic changes. The stage of development of the animal when the nutrient restriction occurs greatly affects its body composition.\\n\\n\""
   ]
  },
  {
   "cell_type": "code",
   "execution_count": 123,
   "metadata": {
    "collapsed": false
   },
   "outputs": [
    {
     "data": {
      "text/plain": [
       "'biology'"
      ]
     },
     "execution_count": 123,
     "metadata": {},
     "output_type": "execute_result"
    }
   ],
   "source": [
    "predict_category(text)"
   ]
  },
  {
   "cell_type": "code",
   "execution_count": 124,
   "metadata": {
    "collapsed": false
   },
   "outputs": [],
   "source": [
    "import numpy as np\n",
    "\n",
    "position_scores = [0.17, 0.23, 0.14, 0.08, 0.05, 0.04, 0.06, 0.04, 0.04, 0.15]\n",
    "heading_weight = 0.3\n",
    "\n",
    "def tokenize_sent(text, title):\n",
    "    tCopy = text\n",
    "    if tCopy.startswith(title):\n",
    "         tCopy = tCopy[len(title):]\n",
    "    return nltk.sent_tokenize(tCopy.lstrip()) \n",
    "\n",
    "def score_sentence(sentence, title, category, position):\n",
    "    features = bayes[category][\"features\"]\n",
    "    count = bayes[category][\"bow\"].transform([sentence])\n",
    "    tfidf = bayes[category][\"tfidf\"].transform(count).toarray()[0]\n",
    "    score = 0\n",
    "    tokenized_sentence = tokenize(sentence)\n",
    "    tokenized_title = tokenize(title)\n",
    "    for word in tokenized_sentence:\n",
    "        try:\n",
    "            indx = features.index(word)\n",
    "            score += tfidf[indx]\n",
    "        except:\n",
    "            score += 0\n",
    "    \n",
    "    title_inter = np.intersect1d(tokenized_title, tokenized_sentence)\n",
    "    score += heading_weight * (len(title_inter) / len(tokenized_title))\n",
    "    return score\n",
    "    \n",
    "def score_sentences(text, title, category):\n",
    "    sentences = tokenize_sent(text, title)\n",
    "    out = []\n",
    "    for indx, sentence in enumerate(sentences):\n",
    "        score = score_sentence(sentence, title, category, int(10*indx/len(sentences)))\n",
    "        out.append([indx, score, sentence])\n",
    "    return out\n",
    "\n",
    "def summarise_text(text, title, category, top=5):\n",
    "    scored = score_sentences(text, title, category)\n",
    "    scored = sorted(scored,key=lambda x: x[1], reverse=True)[:top]\n",
    "    return \" \".join(np.array(sorted(scored,key=lambda x: x[0]))[...,2])\n"
   ]
  },
  {
   "cell_type": "code",
   "execution_count": 128,
   "metadata": {
    "collapsed": false
   },
   "outputs": [
    {
     "name": "stdout",
     "output_type": "stream",
     "text": [
      "('Compensatory growth, known as catch-up growth and compensatory gain, is an '\n",
      " 'accelerated growth of an organism following a period of slowed development, '\n",
      " 'particularly as a result of nutrient deprivation. Compensatory growth has '\n",
      " 'been observed in a number of organisms including humans, other species of '\n",
      " 'mammals, birds, reptiles, fish, plants (especially grasses and young tree '\n",
      " 'seedlings and saplings), fungi, microbes, and damselflies. Height potential '\n",
      " 'is normally preserved if the duration and severity of anorexia nervosa are '\n",
      " 'not significant and/or if the illness is accompanied with delayed bone age '\n",
      " '(especially prior to a bone age of approximately 15 years), as hypogonadism '\n",
      " 'may negate the deleterious effects of undernutrition on stature by allowing '\n",
      " 'for a longer duration of growth compared to controls. In such cases, '\n",
      " 'appropriate early treatment can preserve height potential and may even help '\n",
      " 'to increase it in some post-anorexic subjects due to the aforementioned '\n",
      " 'reasons in addition to factors such as long-term reduced estrogen-producing '\n",
      " 'adipose tissue levels compared to premorbid levels. These factors are as '\n",
      " 'follows:\\n'\n",
      " '\\n'\n",
      " 'Animal factors that can affect compensatory growth may include the maturity '\n",
      " 'level and fat proportion of the animal at the time of nutrient deprivation, '\n",
      " 'the genotype, the gender, and the metabolic changes.')\n"
     ]
    }
   ],
   "source": [
    "import pprint\n",
    "\n",
    "pprint.pprint(summarise_text(text, \"Compensatory growth (organism)\", \"biology\", 5))"
   ]
  },
  {
   "cell_type": "code",
   "execution_count": null,
   "metadata": {
    "collapsed": true
   },
   "outputs": [],
   "source": []
  }
 ],
 "metadata": {
  "kernelspec": {
   "display_name": "Python 3",
   "language": "python",
   "name": "python3"
  },
  "language_info": {
   "codemirror_mode": {
    "name": "ipython",
    "version": 3
   },
   "file_extension": ".py",
   "mimetype": "text/x-python",
   "name": "python",
   "nbconvert_exporter": "python",
   "pygments_lexer": "ipython3",
   "version": "3.5.3"
  }
 },
 "nbformat": 4,
 "nbformat_minor": 2
}
