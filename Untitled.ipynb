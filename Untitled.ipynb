{
 "cells": [
  {
   "cell_type": "code",
   "execution_count": 1,
   "metadata": {
    "collapsed": false
   },
   "outputs": [
    {
     "name": "stdout",
     "output_type": "stream",
     "text": [
      "361\n",
      "304\n"
     ]
    }
   ],
   "source": [
    "import os\n",
    "import json\n",
    "\n",
    "data_dir = '/home/jagr/Documents/studia/article-summarization/data/small'\n",
    "\n",
    "categories = os.listdir(data_dir)\n",
    "data = {}\n",
    "\n",
    "for category in categories:\n",
    "    data[category] = []\n",
    "\n",
    "\n",
    "    \n",
    "for category in categories:\n",
    "    for file in os.listdir(os.path.join(data_dir, category)):\n",
    "        doc_path = os.path.join(data_dir, category, file)\n",
    "        d = open(doc_path)\n",
    "        j = json.loads(d.read())\n",
    "        for document in j:\n",
    "            doc = {\"title\":document[\"title\"], \"text\":document[\"text\"]}\n",
    "            data[category].append(doc)\n",
    "\n",
    "print(len(data[\"ai\"]))\n",
    "print(len(data[\"biology\"]))\n"
   ]
  },
  {
   "cell_type": "code",
   "execution_count": null,
   "metadata": {
    "collapsed": true
   },
   "outputs": [],
   "source": []
  }
 ],
 "metadata": {
  "kernelspec": {
   "display_name": "Python 3",
   "language": "python",
   "name": "python3"
  },
  "language_info": {
   "codemirror_mode": {
    "name": "ipython",
    "version": 3
   },
   "file_extension": ".py",
   "mimetype": "text/x-python",
   "name": "python",
   "nbconvert_exporter": "python",
   "pygments_lexer": "ipython3",
   "version": "3.5.3"
  }
 },
 "nbformat": 4,
 "nbformat_minor": 2
}
