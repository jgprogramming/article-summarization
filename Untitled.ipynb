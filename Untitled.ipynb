{
 "cells": [
  {
   "cell_type": "code",
   "execution_count": 30,
   "metadata": {
    "collapsed": false
   },
   "outputs": [
    {
     "name": "stdout",
     "output_type": "stream",
     "text": [
      "4549\n"
     ]
    }
   ],
   "source": [
    "import os\n",
    "import json\n",
    "\n",
    "data_dir = '/home/jagr/Documents/studia/article-summarization/data/cat_data'\n",
    "\n",
    "categories = os.listdir(data_dir)\n",
    "data = {}\n",
    "\n",
    "for category in categories:\n",
    "    data[category] = []\n",
    "\n",
    "\n",
    "    \n",
    "for category in categories:\n",
    "    for file in os.listdir(os.path.join(data_dir, category)):\n",
    "        doc_path = os.path.join(data_dir, category, file)\n",
    "        d = open(doc_path)\n",
    "        j = json.loads(d.read())\n",
    "        for document in j:\n",
    "            doc = {\"title\":document[\"title\"], \"text\":document[\"text\"]}\n",
    "            data[category].append(doc)\n",
    "\n",
    "corpus_size = 0\n",
    "for category in categories:\n",
    "    corpus_size += len(data[category])\n",
    "            \n",
    "print(corpus_size)\n"
   ]
  },
  {
   "cell_type": "code",
   "execution_count": 31,
   "metadata": {
    "collapsed": false
   },
   "outputs": [],
   "source": [
    "from sklearn.feature_extraction.text import CountVectorizer\n",
    "from nltk.stem.porter import PorterStemmer\n",
    "import nltk\n",
    "\n",
    "from nltk.stem.lancaster import LancasterStemmer\n",
    "\n",
    "stemmer = LancasterStemmer()\n",
    "def stem_tokens(tokens, stemmer):\n",
    "    stemmed = []\n",
    "    for item in tokens:\n",
    "        stemmed.append(stemmer.stem(item))\n",
    "    return stemmed\n",
    "\n",
    "def tokenize(text):\n",
    "    tokens = nltk.word_tokenize(text)\n",
    "    stems = stem_tokens(tokens, stemmer)\n",
    "    stems = [word.lower() for word in stems if word.isalpha()]\n",
    "    return stems\n",
    "\n",
    "bayes = {}\n",
    "for category in categories:\n",
    "    bayes[category] = {}\n",
    "    bayes[category][\"prob\"] = len(data[category])/corpus_size\n",
    "    bow = CountVectorizer(input='content', tokenizer=tokenize, stop_words='english')\n",
    "    korpus = []\n",
    "    for entry in data[category]:\n",
    "        korpus.append(entry[\"text\"])\n",
    "    bow = bow.fit(korpus)\n",
    "    bow.get_feature_names()\n",
    "    bayes[category][\"bow\"] = bow\n",
    "\n"
   ]
  },
  {
   "cell_type": "code",
   "execution_count": 36,
   "metadata": {
    "collapsed": false
   },
   "outputs": [
    {
     "name": "stdout",
     "output_type": "stream",
     "text": [
      "['text', 'lala']\n",
      "39911\n"
     ]
    },
    {
     "data": {
      "text/plain": [
       "0.7546713563420532"
      ]
     },
     "execution_count": 36,
     "metadata": {},
     "output_type": "execute_result"
    }
   ],
   "source": [
    "import math\n",
    "# for i in bayes[\"ai\"][\"bow\"].transform([data[\"ai\"][3][\"text\"]]).toarray()[]:\n",
    "#     if i != 0:\n",
    "#         print(i)\n",
    "       \n",
    "\n",
    "def calculate_prob(text, category):\n",
    "    prob = bayes[category][\"prob\"]\n",
    "#     prob = math.log(bayes[category][\"prob\"])\n",
    "    print(text.split(\" \"))\n",
    "    print(len(bayes[category][\"bow\"].get_feature_names()))\n",
    "    return prob\n",
    "\n",
    "calculate_prob(\"text lala\", \"biology\")"
   ]
  },
  {
   "cell_type": "code",
   "execution_count": null,
   "metadata": {
    "collapsed": true
   },
   "outputs": [],
   "source": []
  }
 ],
 "metadata": {
  "kernelspec": {
   "display_name": "Python 3",
   "language": "python",
   "name": "python3"
  },
  "language_info": {
   "codemirror_mode": {
    "name": "ipython",
    "version": 3
   },
   "file_extension": ".py",
   "mimetype": "text/x-python",
   "name": "python",
   "nbconvert_exporter": "python",
   "pygments_lexer": "ipython3",
   "version": "3.5.3"
  }
 },
 "nbformat": 4,
 "nbformat_minor": 2
}
