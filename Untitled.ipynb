{
 "cells": [
  {
   "cell_type": "code",
   "execution_count": 106,
   "metadata": {
    "collapsed": false
   },
   "outputs": [
    {
     "name": "stdout",
     "output_type": "stream",
     "text": [
      "4549\n"
     ]
    }
   ],
   "source": [
    "import os\n",
    "import json\n",
    "\n",
    "data_dir = '/home/jagr/Documents/studia/article-summarization/data/cat_data'\n",
    "\n",
    "categories = os.listdir(data_dir)\n",
    "data = {}\n",
    "\n",
    "for category in categories:\n",
    "    data[category] = []\n",
    "\n",
    "\n",
    "    \n",
    "for category in categories:\n",
    "    for file in os.listdir(os.path.join(data_dir, category)):\n",
    "        doc_path = os.path.join(data_dir, category, file)\n",
    "        d = open(doc_path)\n",
    "        j = json.loads(d.read())\n",
    "        for document in j:\n",
    "            doc = {\"title\":document[\"title\"], \"text\":document[\"text\"]}\n",
    "            data[category].append(doc)\n",
    "\n",
    "corpus_size = 0\n",
    "for category in categories:\n",
    "    corpus_size += len(data[category])\n",
    "            \n",
    "print(corpus_size)\n"
   ]
  },
  {
   "cell_type": "code",
   "execution_count": 107,
   "metadata": {
    "collapsed": false
   },
   "outputs": [],
   "source": [
    "from sklearn.feature_extraction.text import CountVectorizer\n",
    "from nltk.stem.porter import PorterStemmer\n",
    "import nltk\n",
    "\n",
    "from nltk.stem.lancaster import LancasterStemmer\n",
    "\n",
    "stemmer = LancasterStemmer()\n",
    "def stem_tokens(tokens, stemmer):\n",
    "    stemmed = []\n",
    "    for item in tokens:\n",
    "        stemmed.append(stemmer.stem(item))\n",
    "    return stemmed\n",
    "\n",
    "def tokenize(text):\n",
    "    tokens = nltk.word_tokenize(text)\n",
    "    stems = stem_tokens(tokens, stemmer)\n",
    "    stems = [word.lower() for word in stems if word.isalpha()]\n",
    "    return stems\n",
    "\n",
    "bayes = {}\n",
    "for category in categories:\n",
    "    bayes[category] = {}\n",
    "    bayes[category][\"prob\"] = len(data[category])/corpus_size\n",
    "    bow = CountVectorizer(input='content', tokenizer=tokenize, stop_words='english')\n",
    "    korpus = \"\"\n",
    "    for entry in data[category]:\n",
    "        korpus += entry[\"text\"]\n",
    "        korpus += \" \"\n",
    "    bow = bow.fit([korpus])\n",
    "    \n",
    "    bayes[category][\"count\"] = bow.transform([korpus]).toarray()[0]\n",
    "    bayes[category][\"features\"] = bow.get_feature_names()\n",
    "    bayes[category][\"sum\"] = sum(bayes[category][\"count\"])"
   ]
  },
  {
   "cell_type": "code",
   "execution_count": 108,
   "metadata": {
    "collapsed": false
   },
   "outputs": [],
   "source": [
    "import math\n",
    "       \n",
    "import sys\n",
    "def calculate_prob(text, category):\n",
    "    prob = math.log(bayes[category][\"prob\"])\n",
    "    \n",
    "    features = bayes[category][\"features\"]\n",
    "    count = bayes[category][\"count\"]\n",
    "    suma = bayes[category][\"sum\"]\n",
    "    \n",
    "    for word in tokenize(text):\n",
    "        try:\n",
    "            indx = features.index(word)\n",
    "            c = count[indx]\n",
    "        except:\n",
    "            c = 1\n",
    "        prob += math.log(c/suma)\n",
    "    return prob\n",
    "\n",
    "def predict_category(text):\n",
    "    value = -sys.maxsize -1\n",
    "    cat = None\n",
    "    \n",
    "    for category in categories:\n",
    "        prob = calculate_prob(text, category)\n",
    "        if  prob > value:\n",
    "            value = prob\n",
    "            cat = category\n",
    "    return cat"
   ]
  },
  {
   "cell_type": "code",
   "execution_count": 124,
   "metadata": {
    "collapsed": false
   },
   "outputs": [],
   "source": [
    "text = \"Universal approximation theorem\\n\\nIn the mathematical theory of artificial neural networks, the universal approximation theorem states that a feed-forward network with a single hidden layer containing a finite number of neurons (i.e., a multilayer perceptron), can approximate continuous functions on compact subsets of R, under mild assumptions on the activation function. The theorem thus states that simple neural networks can \\\"represent\\\" a wide variety of interesting functions when given appropriate parameters; however, it does not touch upon the algorithmic learnability of those parameters.\\n\\nOne of the first versions of the theorem was proved by George Cybenko in 1989 for sigmoid activation functions.\\n\\nKurt Hornik showed in 1991 that it is not the specific choice of the activation function, but rather the multilayer feedforward architecture itself which gives neural networks the potential of being universal approximators. The output units are always assumed to be linear. For notational convenience, only the single output case will be shown. The general case can easily be deduced from the single output case.\\n\\nThe theorem in mathematical terms:\\n\\nLet formula_1 be a nonconstant, bounded, and monotonically-increasing continuous function. Let formula_2 denote the \\\"m\\\"-dimensional unit hypercube formula_3. The space of continuous functions on formula_2 is denoted by formula_5. Then, given any formula_6 and any function formula_7, there exist an integer formula_8, real constants formula_9 and real vectors formula_10, where formula_11, such that we may define:\\n\\nas an approximate realization of the function formula_13 where formula_13 is independent of formula_15; that is,\\n\\nfor all formula_17. In other words, functions of the form formula_18 are dense in formula_5.\\nThis still holds when replacing formula_2 with any compact subset of formula_21.\\n\\n\\n\""
   ]
  },
  {
   "cell_type": "code",
   "execution_count": 125,
   "metadata": {
    "collapsed": false
   },
   "outputs": [
    {
     "data": {
      "text/plain": [
       "'ai'"
      ]
     },
     "execution_count": 125,
     "metadata": {},
     "output_type": "execute_result"
    }
   ],
   "source": [
    "predict_category(text)"
   ]
  },
  {
   "cell_type": "code",
   "execution_count": null,
   "metadata": {
    "collapsed": true
   },
   "outputs": [],
   "source": []
  }
 ],
 "metadata": {
  "kernelspec": {
   "display_name": "Python 3",
   "language": "python",
   "name": "python3"
  },
  "language_info": {
   "codemirror_mode": {
    "name": "ipython",
    "version": 3
   },
   "file_extension": ".py",
   "mimetype": "text/x-python",
   "name": "python",
   "nbconvert_exporter": "python",
   "pygments_lexer": "ipython3",
   "version": "3.5.3"
  }
 },
 "nbformat": 4,
 "nbformat_minor": 2
}
